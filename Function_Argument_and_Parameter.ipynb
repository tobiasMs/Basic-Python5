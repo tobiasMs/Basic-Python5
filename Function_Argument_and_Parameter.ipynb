{
  "nbformat": 4,
  "nbformat_minor": 0,
  "metadata": {
    "colab": {
      "name": "Function - Argument and Parameter.ipynb",
      "provenance": []
    },
    "kernelspec": {
      "name": "python3",
      "display_name": "Python 3"
    },
    "language_info": {
      "name": "python"
    }
  },
  "cells": [
    {
      "cell_type": "markdown",
      "source": [
        "###Function - Argument and Parameter\n",
        "\n",
        "Argument that can be sent to the function\n",
        "\n",
        "There is 2 argument to call out the function:\n",
        "\n",
        "\n",
        "1.   Keyword Argument\n",
        "2.   Positional Argument\n",
        "\n"
      ],
      "metadata": {
        "id": "acJqHPFhrAtz"
      }
    },
    {
      "cell_type": "markdown",
      "source": [
        "####Keyword Argument\n",
        "The argument who had an identifier or name of parameter explicitly mentioned. including with dictionary started by (**)\n",
        "\n"
      ],
      "metadata": {
        "id": "oqchl2pLtVZx"
      }
    },
    {
      "cell_type": "code",
      "source": [
        "def package(date, month, year):\n",
        "  arrive = \"Your package will be arrive at {} {} {}\".format(date,month,year)\n",
        "  return arrive"
      ],
      "metadata": {
        "id": "p3kK4bIDr9JS"
      },
      "execution_count": null,
      "outputs": []
    },
    {
      "cell_type": "code",
      "source": [
        "package(date=16, month='June', year=2023)"
      ],
      "metadata": {
        "colab": {
          "base_uri": "https://localhost:8080/",
          "height": 35
        },
        "id": "lc_g42-es97S",
        "outputId": "dc427c32-9b49-4ecf-aa0e-1254370e1a1e"
      },
      "execution_count": null,
      "outputs": [
        {
          "output_type": "execute_result",
          "data": {
            "text/plain": [
              "'Your package will be arrive at 16 June 2023'"
            ],
            "application/vnd.google.colaboratory.intrinsic+json": {
              "type": "string"
            }
          },
          "metadata": {},
          "execution_count": 2
        }
      ]
    },
    {
      "cell_type": "code",
      "source": [
        "package(**{'date':13, 'month':'June', 'year':2023})"
      ],
      "metadata": {
        "colab": {
          "base_uri": "https://localhost:8080/",
          "height": 35
        },
        "id": "aveaxqCBtRBK",
        "outputId": "7a0d0d0b-e8d0-4ecf-e763-f70009e96c9f"
      },
      "execution_count": null,
      "outputs": [
        {
          "output_type": "execute_result",
          "data": {
            "text/plain": [
              "'Your package will be arrive at 13 June 2023'"
            ],
            "application/vnd.google.colaboratory.intrinsic+json": {
              "type": "string"
            }
          },
          "metadata": {},
          "execution_count": 4
        }
      ]
    },
    {
      "cell_type": "markdown",
      "source": [
        "####Positional Argument\n",
        "\n",
        "when we use an iterable variable, we use positional argument started by (*)"
      ],
      "metadata": {
        "id": "Xa3-USwGPVS4"
      }
    },
    {
      "cell_type": "code",
      "source": [
        "def package(date, month, year):\n",
        "  arrive = \"Your package will be arrive at {} {} {}\".format(date,month,year)\n",
        "  return arrive"
      ],
      "metadata": {
        "id": "uMo_smhDPsv-"
      },
      "execution_count": 1,
      "outputs": []
    },
    {
      "cell_type": "code",
      "source": [
        "package(2,'feb',2022)"
      ],
      "metadata": {
        "colab": {
          "base_uri": "https://localhost:8080/",
          "height": 35
        },
        "id": "Rlh_hGp2PxtI",
        "outputId": "9e84dc22-91f0-46b6-e548-e2083d4751b7"
      },
      "execution_count": 2,
      "outputs": [
        {
          "output_type": "execute_result",
          "data": {
            "text/plain": [
              "'Your package will be arrive at 2 feb 2022'"
            ],
            "application/vnd.google.colaboratory.intrinsic+json": {
              "type": "string"
            }
          },
          "metadata": {},
          "execution_count": 2
        }
      ]
    },
    {
      "cell_type": "code",
      "source": [
        "package(*(2,'feb',2022))"
      ],
      "metadata": {
        "colab": {
          "base_uri": "https://localhost:8080/",
          "height": 35
        },
        "id": "fYVxaOs6P4zO",
        "outputId": "0e6e8941-2353-4375-8d34-f72fbf6713ff"
      },
      "execution_count": 3,
      "outputs": [
        {
          "output_type": "execute_result",
          "data": {
            "text/plain": [
              "'Your package will be arrive at 2 feb 2022'"
            ],
            "application/vnd.google.colaboratory.intrinsic+json": {
              "type": "string"
            }
          },
          "metadata": {},
          "execution_count": 3
        }
      ]
    },
    {
      "cell_type": "markdown",
      "source": [
        "###Parameter Function Order\n",
        "\n",
        "There are another possibility parameter function order according to python:\n",
        "\n",
        "\n",
        "*   Position-or-keyword : we can type the argument as keyword argument or positional argument.\n",
        "*   Positional-only : we can set the argument for certain position. Determine with declaration position.\n",
        "\n"
      ],
      "metadata": {
        "id": "U8-8RN51Qjwl"
      }
    },
    {
      "cell_type": "code",
      "source": [
        "def trial(*argument, **key_dict):\n",
        "  for i in argument:\n",
        "    print(\"position argument {}\".format(i))\n",
        "  for key, value in key_dict.items():\n",
        "    print(\"key argument {}:{}\".format(key,value)) "
      ],
      "metadata": {
        "id": "h9y4mxbZSvNV"
      },
      "execution_count": 4,
      "outputs": []
    },
    {
      "cell_type": "code",
      "source": [
        "trial(4)"
      ],
      "metadata": {
        "colab": {
          "base_uri": "https://localhost:8080/"
        },
        "id": "HXVvJR2bUksV",
        "outputId": "8ca78845-7353-40a0-9400-69b6cbb3a7d7"
      },
      "execution_count": 5,
      "outputs": [
        {
          "output_type": "stream",
          "name": "stdout",
          "text": [
            "position argument 4\n"
          ]
        }
      ]
    },
    {
      "cell_type": "code",
      "source": [
        "trial(4, key=5, value=6)"
      ],
      "metadata": {
        "colab": {
          "base_uri": "https://localhost:8080/"
        },
        "id": "AaM2qFckUrAF",
        "outputId": "d65b778a-9e31-4dda-c3bf-6af0ef446537"
      },
      "execution_count": 6,
      "outputs": [
        {
          "output_type": "stream",
          "name": "stdout",
          "text": [
            "position argument 4\n",
            "key argument key:5\n",
            "key argument value:6\n"
          ]
        }
      ]
    },
    {
      "cell_type": "markdown",
      "source": [
        "###Anonymous Function\n",
        "\n",
        "\n",
        "*   Anonymous function different than another function who use keyword 'def', but with 'lambda' keyword.\n",
        "*   A lambda function can take an argument with any amount, but can give one expression value.\n",
        "*   Lambda function cannot take another command. for example, lambda can't run 'print' argument.\n",
        "*   Lambda function is a independent function.\n",
        "\n"
      ],
      "metadata": {
        "id": "YQXR_N1IUz3S"
      }
    },
    {
      "cell_type": "code",
      "source": [
        "multiply = lambda value1, value2: value1*value2"
      ],
      "metadata": {
        "id": "ohlNCLHHXoz9"
      },
      "execution_count": 20,
      "outputs": []
    },
    {
      "cell_type": "code",
      "source": [
        "multiply(3,6)"
      ],
      "metadata": {
        "colab": {
          "base_uri": "https://localhost:8080/"
        },
        "id": "Tpix6KSjXxw8",
        "outputId": "1434d70c-ff8a-4a76-b640-d78bc8dd3126"
      },
      "execution_count": 21,
      "outputs": [
        {
          "output_type": "execute_result",
          "data": {
            "text/plain": [
              "18"
            ]
          },
          "metadata": {},
          "execution_count": 21
        }
      ]
    }
  ]
}