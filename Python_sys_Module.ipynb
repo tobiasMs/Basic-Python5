{
  "nbformat": 4,
  "nbformat_minor": 0,
  "metadata": {
    "colab": {
      "name": "Python sys Module.ipynb",
      "provenance": [],
      "collapsed_sections": []
    },
    "kernelspec": {
      "name": "python3",
      "display_name": "Python 3"
    },
    "language_info": {
      "name": "python"
    }
  },
  "cells": [
    {
      "cell_type": "markdown",
      "source": [
        "#sys Module"
      ],
      "metadata": {
        "id": "-xAcKPO4DN35"
      }
    },
    {
      "cell_type": "markdown",
      "source": [
        "The sys module in Python provides various functions and variables that are used to manipulate different parts of the Python runtime environment. It allows operating on the interpreter as it provides access to the variables and functions that interact strongly with the interpreter"
      ],
      "metadata": {
        "id": "Z1AxeE3PW9LV"
      }
    },
    {
      "cell_type": "markdown",
      "source": [
        "One of the functions in the sys module that is often used to handling exceptions is exc_info. This function returns a tuple of three values that give information about the exception that is currently being handled"
      ],
      "metadata": {
        "id": "kIRGDr4FXSBP"
      }
    },
    {
      "cell_type": "code",
      "source": [
        "import sys\n",
        "a = float(input(\"Enter a number \"))\n",
        "b = float(input(\"Enter a number to divide by \"))\n",
        "\n",
        "try:\n",
        "  print(f\"The answer is {a/b}\")\n",
        "except:\n",
        "  print(sys.exc_info()[0])\n",
        "  print(\"Dind't work. Don't try to divide by zero or something \")\n",
        "else:\n",
        "  print(\"You've successuflly used the division feature in Python\")\n",
        "finally:\n",
        "  print(\"Thank you\")"
      ],
      "metadata": {
        "colab": {
          "base_uri": "https://localhost:8080/"
        },
        "id": "o6AR-n1zXo7M",
        "outputId": "189d20a2-b5ad-4e80-c314-798beec43d53"
      },
      "execution_count": null,
      "outputs": [
        {
          "output_type": "stream",
          "name": "stdout",
          "text": [
            "Enter a number 8\n",
            "Enter a number to divide by 0\n",
            "<class 'ZeroDivisionError'>\n",
            "Dind't work. Don't try to divide by zero or something \n",
            "Thank you\n"
          ]
        }
      ]
    },
    {
      "cell_type": "code",
      "execution_count": null,
      "metadata": {
        "colab": {
          "base_uri": "https://localhost:8080/"
        },
        "id": "Vziqj2nXW3x3",
        "outputId": "23a6b2e6-a7dd-42ba-a65a-d947ce432c86"
      },
      "outputs": [
        {
          "output_type": "stream",
          "name": "stdout",
          "text": [
            "Give me an integer number : a\n",
            "<class 'ValueError'>\n",
            "Don't try to input anything other than number\n",
            "Thank you, have a nice day!\n"
          ]
        }
      ],
      "source": [
        "c = input(\"Give me an integer number : \")\n",
        "\n",
        "try:\n",
        "  print(f\"Convert to float {float(c)}\")\n",
        "except:\n",
        "  print(sys.exc_info()[0])\n",
        "  print(\"Don't try to input anything other than number\")\n",
        "else:\n",
        "  print(\"Convert to float success\")\n",
        "finally:\n",
        "  print(\"Thank you, have a nice day!\")"
      ]
    }
  ]
}