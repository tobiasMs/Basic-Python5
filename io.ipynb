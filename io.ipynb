{
  "nbformat": 4,
  "nbformat_minor": 0,
  "metadata": {
    "colab": {
      "name": "io.ipynb",
      "provenance": [],
      "collapsed_sections": []
    },
    "kernelspec": {
      "name": "python3",
      "display_name": "Python 3"
    },
    "language_info": {
      "name": "python"
    }
  },
  "cells": [
    {
      "cell_type": "markdown",
      "source": [
        "# **io (input output)**\n",
        "Python io module allows us to manage the file-related input and output operations.\\\n",
        "This module is quite useful when you want to perform file-related I/O operations (eg. file reading/writing), this module gives a lot more flexibility regarding these operations.\n"
      ],
      "metadata": {
        "id": "9pnbQDITnRDe"
      }
    },
    {
      "cell_type": "code",
      "execution_count": null,
      "metadata": {
        "id": "3EQeet8kma2N"
      },
      "outputs": [],
      "source": [
        "# importing io module \n",
        "import io"
      ]
    },
    {
      "cell_type": "code",
      "source": [
        "#Open a My Profile.txt file for writing by using the open() function and with statement\n",
        "#Mode 'w', Describe\tOpen a text file for writing text\n",
        "with open('My Profile.txt','w') as writeFile:\n",
        "  tolog = input('What do you want to write?')\n",
        "  tolog1 = input('Whats your name?')\n",
        "  tolog2 = input('Whats your hobby?')\n",
        "  tolog3 = input('Whats your goals?')\n",
        "  writeFile.write(tolog)\n",
        "  writeFile.write('\\n' + tolog1 + '\\n' + tolog2 + '\\n')\n",
        "  writeFile.write(tolog3)"
      ],
      "metadata": {
        "colab": {
          "base_uri": "https://localhost:8080/"
        },
        "id": "l2msiemnrqiz",
        "outputId": "fe11106e-62c1-4988-a2fe-4e13b95e18c9"
      },
      "execution_count": null,
      "outputs": [
        {
          "name": "stdout",
          "output_type": "stream",
          "text": [
            "What do you want to write?This my profile\n",
            "Whats your name?My name is Fitri Alfaqrina\n",
            "Whats your hobby?My hobby is listening music\n",
            "Whats your goals?My goals is to be a Data Scientist\n"
          ]
        }
      ]
    },
    {
      "cell_type": "code",
      "source": [
        "#Open a My Profile.txt file to read all the contents\n",
        "with open('My Profile.txt') as workFile:\n",
        "    workFileContents = workFile.read()\n",
        "    print(workFileContents)"
      ],
      "metadata": {
        "colab": {
          "base_uri": "https://localhost:8080/"
        },
        "id": "hnkIXGYPy3_F",
        "outputId": "53cc7c69-6bee-45ce-c223-26c914ec2e75"
      },
      "execution_count": null,
      "outputs": [
        {
          "output_type": "stream",
          "name": "stdout",
          "text": [
            "This my profile\n",
            "My name is Fitri Alfaqrina\n",
            "My hobby is listening music\n",
            "My goals is to be a Data Scientist\n"
          ]
        }
      ]
    },
    {
      "cell_type": "markdown",
      "source": [
        "##Thanks you!\n",
        "**Have a great day..**\\\n",
        "*See you again* ☺️"
      ],
      "metadata": {
        "id": "grEFvw4YzrQm"
      }
    }
  ]
}