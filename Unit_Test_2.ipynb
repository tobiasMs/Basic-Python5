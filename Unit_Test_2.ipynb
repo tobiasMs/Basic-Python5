{
  "nbformat": 4,
  "nbformat_minor": 0,
  "metadata": {
    "colab": {
      "name": "Unit Test - 2.ipynb",
      "provenance": [],
      "collapsed_sections": []
    },
    "kernelspec": {
      "name": "python3",
      "display_name": "Python 3"
    },
    "language_info": {
      "name": "python"
    }
  },
  "cells": [
    {
      "cell_type": "markdown",
      "source": [
        "# **Unit Test**\n",
        "The unittest module provides a rich set of tools for constructing and running tests.\\\n",
        "The unittest unit testing framework was originally inspired by unit and has a similar flavor as major unit testing frameworks in other languages.\\\n",
        "A testcase is created by subclassing unittest.TestCase.\n"
      ],
      "metadata": {
        "id": "RqV15zkhP5B3"
      }
    },
    {
      "cell_type": "code",
      "source": [
        "# importing unittest module\n",
        "import unittest"
      ],
      "metadata": {
        "id": "cVC92mmPck-e"
      },
      "execution_count": null,
      "outputs": []
    },
    {
      "cell_type": "code",
      "source": [
        "#Testing String Methods\n",
        "Pathway = 'Data Science Track B'\n",
        "Mentor = 'Kak Suwarti'\n",
        "\n",
        "# unittest will test all the methods whose name starts with 'test'\n",
        "class SampleTest(unittest.TestCase):\n",
        "   # return True or False\n",
        "   def test(self):\n",
        "      self.assertTrue(True)\n",
        "# running the test\n",
        "unittest.main()"
      ],
      "metadata": {
        "colab": {
          "base_uri": "https://localhost:8080/",
          "height": 342
        },
        "id": "hRsz1L3lc3lL",
        "outputId": "0cac6f2d-bfcb-4cb2-f150-7e40eb8e2312"
      },
      "execution_count": null,
      "outputs": [
        {
          "output_type": "stream",
          "name": "stderr",
          "text": [
            "E\n",
            "======================================================================\n",
            "ERROR: /root/ (unittest.loader._FailedTest)\n",
            "----------------------------------------------------------------------\n",
            "AttributeError: module '__main__' has no attribute '/root/'\n",
            "\n",
            "----------------------------------------------------------------------\n",
            "Ran 1 test in 0.007s\n",
            "\n",
            "FAILED (errors=1)\n"
          ]
        },
        {
          "output_type": "error",
          "ename": "SystemExit",
          "evalue": "ignored",
          "traceback": [
            "An exception has occurred, use %tb to see the full traceback.\n",
            "\u001b[0;31mSystemExit\u001b[0m\u001b[0;31m:\u001b[0m True\n"
          ]
        },
        {
          "output_type": "stream",
          "name": "stderr",
          "text": [
            "/usr/local/lib/python3.7/dist-packages/IPython/core/interactiveshell.py:2890: UserWarning: To exit: use 'exit', 'quit', or Ctrl-D.\n",
            "  warn(\"To exit: use 'exit', 'quit', or Ctrl-D.\", stacklevel=1)\n"
          ]
        }
      ]
    },
    {
      "cell_type": "code",
      "execution_count": null,
      "metadata": {
        "colab": {
          "base_uri": "https://localhost:8080/",
          "height": 342
        },
        "id": "HlgYlKEWPvVW",
        "outputId": "7e61bbf1-7482-4fa6-9554-eb1f55fa9164"
      },
      "outputs": [
        {
          "output_type": "stream",
          "name": "stderr",
          "text": [
            "E\n",
            "======================================================================\n",
            "ERROR: /root/ (unittest.loader._FailedTest)\n",
            "----------------------------------------------------------------------\n",
            "AttributeError: module '__main__' has no attribute '/root/'\n",
            "\n",
            "----------------------------------------------------------------------\n",
            "Ran 1 test in 0.003s\n",
            "\n",
            "FAILED (errors=1)\n"
          ]
        },
        {
          "output_type": "error",
          "ename": "SystemExit",
          "evalue": "ignored",
          "traceback": [
            "An exception has occurred, use %tb to see the full traceback.\n",
            "\u001b[0;31mSystemExit\u001b[0m\u001b[0;31m:\u001b[0m True\n"
          ]
        },
        {
          "output_type": "stream",
          "name": "stderr",
          "text": [
            "/usr/local/lib/python3.7/dist-packages/IPython/core/interactiveshell.py:2890: UserWarning: To exit: use 'exit', 'quit', or Ctrl-D.\n",
            "  warn(\"To exit: use 'exit', 'quit', or Ctrl-D.\", stacklevel=1)\n"
          ]
        }
      ],
      "source": [
        "a = 3\n",
        "b = 5\n",
        "\n",
        "class Test__53a_UnitTest(unittest.TestCase):\n",
        "  def test_equal(self):\n",
        "    self.assertEqual(3 + 4, a + b)\n",
        "  def test_greater(self):\n",
        "    self.assertTrue(a + b > 3 + 4)\n",
        "\n",
        "if __name__ == '__main__':\n",
        "  unittest.main()"
      ]
    },
    {
      "cell_type": "markdown",
      "source": [
        "##Thanks you!\n",
        "**Have a great day..**\\\n",
        "*See you again* ☺️"
      ],
      "metadata": {
        "id": "2r-kX01sS7UN"
      }
    }
  ]
}