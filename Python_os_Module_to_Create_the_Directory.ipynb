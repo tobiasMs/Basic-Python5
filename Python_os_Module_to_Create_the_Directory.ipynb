{
  "nbformat": 4,
  "nbformat_minor": 0,
  "metadata": {
    "colab": {
      "name": "Python os Module to Create the Directory.ipynb",
      "provenance": [],
      "collapsed_sections": []
    },
    "kernelspec": {
      "name": "python3",
      "display_name": "Python 3"
    },
    "language_info": {
      "name": "python"
    }
  },
  "cells": [
    {
      "cell_type": "markdown",
      "source": [
        "#os Module"
      ],
      "metadata": {
        "id": "E3EoHMntg4FH"
      }
    },
    {
      "cell_type": "markdown",
      "source": [
        "The os module in Python provides functions for interacting with the operating system. \n",
        "Python os Module, include many functions to interact with the file system, one of them is to create a directory in the  python by using os.mkdir() method."
      ],
      "metadata": {
        "id": "9jlaQpLI5yjI"
      }
    },
    {
      "cell_type": "code",
      "execution_count": null,
      "metadata": {
        "colab": {
          "base_uri": "https://localhost:8080/"
        },
        "id": "F8N8HSMk5HEh",
        "outputId": "9724808c-bf21-46d0-93d8-251e23279f5d"
      },
      "outputs": [
        {
          "output_type": "stream",
          "name": "stdout",
          "text": [
            "Enter the name of the folder you want to create : New Notebook\n",
            "Directory Created\n"
          ]
        }
      ],
      "source": [
        "import os\n",
        "dirName = input(\"Enter the name of the folder you want to create : \")\n",
        "os.mkdir(dirName)\n",
        "print(\"Directory Created\")"
      ]
    },
    {
      "cell_type": "markdown",
      "source": [
        "This method raise FileExistsError if the directory to be created already exists"
      ],
      "metadata": {
        "id": "q_zdwOIR8CBm"
      }
    },
    {
      "cell_type": "code",
      "source": [
        "import os\n",
        "dirName2 = input(\"Enter the name of the folder you want to create : \")\n",
        "os.mkdir(dirName2)\n",
        "print(\"Directory Created\")"
      ],
      "metadata": {
        "colab": {
          "base_uri": "https://localhost:8080/",
          "height": 245
        },
        "id": "V6pYxV0e8DsL",
        "outputId": "be858700-48a5-4429-8563-1c9aa7f5e4e2"
      },
      "execution_count": null,
      "outputs": [
        {
          "name": "stdout",
          "output_type": "stream",
          "text": [
            "Enter the name of the folder you want to create : New Notebook\n"
          ]
        },
        {
          "output_type": "error",
          "ename": "FileExistsError",
          "evalue": "ignored",
          "traceback": [
            "\u001b[0;31m---------------------------------------------------------------------------\u001b[0m",
            "\u001b[0;31mFileExistsError\u001b[0m                           Traceback (most recent call last)",
            "\u001b[0;32m<ipython-input-6-bd20366791b7>\u001b[0m in \u001b[0;36m<module>\u001b[0;34m()\u001b[0m\n\u001b[1;32m      1\u001b[0m \u001b[0;32mimport\u001b[0m \u001b[0mos\u001b[0m\u001b[0;34m\u001b[0m\u001b[0;34m\u001b[0m\u001b[0m\n\u001b[1;32m      2\u001b[0m \u001b[0mdirName2\u001b[0m \u001b[0;34m=\u001b[0m \u001b[0minput\u001b[0m\u001b[0;34m(\u001b[0m\u001b[0;34m\"Enter the name of the folder you want to create : \"\u001b[0m\u001b[0;34m)\u001b[0m\u001b[0;34m\u001b[0m\u001b[0;34m\u001b[0m\u001b[0m\n\u001b[0;32m----> 3\u001b[0;31m \u001b[0mos\u001b[0m\u001b[0;34m.\u001b[0m\u001b[0mmkdir\u001b[0m\u001b[0;34m(\u001b[0m\u001b[0mdirName2\u001b[0m\u001b[0;34m)\u001b[0m\u001b[0;34m\u001b[0m\u001b[0;34m\u001b[0m\u001b[0m\n\u001b[0m\u001b[1;32m      4\u001b[0m \u001b[0mprint\u001b[0m\u001b[0;34m(\u001b[0m\u001b[0;34m\"Directory Created\"\u001b[0m\u001b[0;34m)\u001b[0m\u001b[0;34m\u001b[0m\u001b[0;34m\u001b[0m\u001b[0m\n",
            "\u001b[0;31mFileExistsError\u001b[0m: [Errno 17] File exists: 'New Notebook'"
          ]
        }
      ]
    }
  ]
}