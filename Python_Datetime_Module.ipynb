{
  "nbformat": 4,
  "nbformat_minor": 0,
  "metadata": {
    "colab": {
      "name": "Python Datetime Module.ipynb",
      "provenance": [],
      "collapsed_sections": []
    },
    "kernelspec": {
      "name": "python3",
      "display_name": "Python 3"
    },
    "language_info": {
      "name": "python"
    }
  },
  "cells": [
    {
      "cell_type": "markdown",
      "source": [
        "#Datetime Module"
      ],
      "metadata": {
        "id": "jfYOXvIeCETH"
      }
    },
    {
      "cell_type": "markdown",
      "source": [
        "The datetime module provides classes for manipulating dates and times. These classes provide a number of functions to deal with dates, times and time intervals."
      ],
      "metadata": {
        "id": "xeSDIq_eIgqF"
      }
    },
    {
      "cell_type": "markdown",
      "source": [
        "###Datetime Class\n",
        "Datetime is a combination of date and time along with the attributes year, month, day, hour, minute, second, microsecond, and tzinfo"
      ],
      "metadata": {
        "id": "phcjaz5_JUcN"
      }
    },
    {
      "cell_type": "markdown",
      "source": [
        "With the datetime classes, we can get the current date and time"
      ],
      "metadata": {
        "id": "nULoLn4dI2xn"
      }
    },
    {
      "cell_type": "code",
      "execution_count": null,
      "metadata": {
        "colab": {
          "base_uri": "https://localhost:8080/"
        },
        "id": "6K4zXD-4Id1N",
        "outputId": "ac853619-1553-49f9-f732-89b17c36f973"
      },
      "outputs": [
        {
          "output_type": "stream",
          "name": "stdout",
          "text": [
            "2022-04-09 16:25:02.141649\n"
          ]
        }
      ],
      "source": [
        "import datetime\n",
        "todaywithTime = datetime.datetime.today()\n",
        "print(todaywithTime)"
      ]
    },
    {
      "cell_type": "markdown",
      "source": [
        "###Date Class\n",
        "Date class returns the year, month, and date."
      ],
      "metadata": {
        "id": "LiBX5vVMJfZd"
      }
    },
    {
      "cell_type": "markdown",
      "source": [
        "We can get the current date, without time"
      ],
      "metadata": {
        "id": "kBUHz6seKqaJ"
      }
    },
    {
      "cell_type": "code",
      "source": [
        "import datetime\n",
        "date = datetime.date.today()\n",
        "print(date)"
      ],
      "metadata": {
        "colab": {
          "base_uri": "https://localhost:8080/"
        },
        "id": "veVGpUKKKR45",
        "outputId": "c9e05850-9fef-4e04-c18b-d2724e7988e1"
      },
      "execution_count": null,
      "outputs": [
        {
          "output_type": "stream",
          "name": "stdout",
          "text": [
            "2022-04-09\n"
          ]
        }
      ]
    },
    {
      "cell_type": "markdown",
      "source": [
        "We can also set a specific date as needed"
      ],
      "metadata": {
        "id": "572O-p5lLGHL"
      }
    },
    {
      "cell_type": "code",
      "source": [
        "import datetime\n",
        "indonesianIndependenceDay = datetime.date(1945, 8, 17)\n",
        "print(indonesianIndependenceDay)"
      ],
      "metadata": {
        "colab": {
          "base_uri": "https://localhost:8080/"
        },
        "id": "yFMrOEXDLC0R",
        "outputId": "cc50579d-66aa-420c-effa-1ea48f0ebad4"
      },
      "execution_count": null,
      "outputs": [
        {
          "output_type": "stream",
          "name": "stdout",
          "text": [
            "1945-08-17\n"
          ]
        }
      ]
    },
    {
      "cell_type": "markdown",
      "source": [
        "There are many other functions and classes in datetime module. For more details, we can see with dir(datetime)"
      ],
      "metadata": {
        "id": "Zd7DPp0lMB4Y"
      }
    },
    {
      "cell_type": "code",
      "source": [
        "dir(datetime)"
      ],
      "metadata": {
        "id": "h80VdM_OMg4y",
        "outputId": "a6c306c9-2b65-450f-8053-1b52cd545c01",
        "colab": {
          "base_uri": "https://localhost:8080/"
        }
      },
      "execution_count": null,
      "outputs": [
        {
          "output_type": "execute_result",
          "data": {
            "text/plain": [
              "['MAXYEAR',\n",
              " 'MINYEAR',\n",
              " '__builtins__',\n",
              " '__cached__',\n",
              " '__doc__',\n",
              " '__file__',\n",
              " '__loader__',\n",
              " '__name__',\n",
              " '__package__',\n",
              " '__spec__',\n",
              " 'date',\n",
              " 'datetime',\n",
              " 'datetime_CAPI',\n",
              " 'sys',\n",
              " 'time',\n",
              " 'timedelta',\n",
              " 'timezone',\n",
              " 'tzinfo']"
            ]
          },
          "metadata": {},
          "execution_count": 7
        }
      ]
    }
  ]
}