{
  "nbformat": 4,
  "nbformat_minor": 0,
  "metadata": {
    "colab": {
      "name": "Python Math Module.ipynb",
      "provenance": [],
      "collapsed_sections": []
    },
    "kernelspec": {
      "name": "python3",
      "display_name": "Python 3"
    },
    "language_info": {
      "name": "python"
    }
  },
  "cells": [
    {
      "cell_type": "markdown",
      "source": [
        "# Math Module"
      ],
      "metadata": {
        "id": "Kf-R6a_Jhd8c"
      }
    },
    {
      "cell_type": "markdown",
      "source": [
        "Python math module is a standard module in Python that used to deal with mathematical operations. Math module provides the value of various constants and functions to deal with both basic operations such as addition(+), subtraction(-), multiplication(*), division(/) and advance operations like trigonometric, logarithmic, exponential functions."
      ],
      "metadata": {
        "id": "wRs4d47CiITq"
      }
    },
    {
      "cell_type": "markdown",
      "source": [
        "To use mathematical functions under this module, you have to import the module using import math."
      ],
      "metadata": {
        "id": "gqQ5O1qWjOOv"
      }
    },
    {
      "cell_type": "code",
      "execution_count": null,
      "metadata": {
        "id": "y74RmS29hY4g"
      },
      "outputs": [],
      "source": [
        "import math"
      ]
    },
    {
      "cell_type": "markdown",
      "source": [
        "Suppose we want to call the value of the mathematical constant pi"
      ],
      "metadata": {
        "id": "fn0Ax2-lkOG0"
      }
    },
    {
      "cell_type": "code",
      "source": [
        "import math\n",
        "pi = math.pi\n",
        "print(pi)"
      ],
      "metadata": {
        "colab": {
          "base_uri": "https://localhost:8080/"
        },
        "id": "DmxBPyVNkPiY",
        "outputId": "9678f789-ecd3-4854-bedc-ef3008696ecb"
      },
      "execution_count": null,
      "outputs": [
        {
          "output_type": "stream",
          "name": "stdout",
          "text": [
            "3.141592653589793\n"
          ]
        }
      ]
    },
    {
      "cell_type": "markdown",
      "source": [
        "Math module also allows us to find Ceil Value and Floor Value"
      ],
      "metadata": {
        "id": "JXRMvHoHmD66"
      }
    },
    {
      "cell_type": "markdown",
      "source": [
        "Ceil value means the smallest integer value greater than the number and the floor value means the greatest integer value smaller than the number. This can be easily calculated using the math.ceil() and math.floor() method respectively."
      ],
      "metadata": {
        "id": "U-PfyGiTkuc5"
      }
    },
    {
      "cell_type": "code",
      "source": [
        "import math"
      ],
      "metadata": {
        "id": "zKweZcLPoCFt"
      },
      "execution_count": null,
      "outputs": []
    },
    {
      "cell_type": "code",
      "source": [
        "#returning the ceil value of pi\n",
        "upperBound = math.ceil(pi)\n",
        "print(upperBound)"
      ],
      "metadata": {
        "colab": {
          "base_uri": "https://localhost:8080/"
        },
        "id": "DFNljpwBmNLK",
        "outputId": "655d3669-8eb6-4b94-8e51-34098048cb20"
      },
      "execution_count": null,
      "outputs": [
        {
          "output_type": "stream",
          "name": "stdout",
          "text": [
            "4\n"
          ]
        }
      ]
    },
    {
      "cell_type": "code",
      "source": [
        "#returning the floor value of pi\n",
        "lowerBound = math.floor(pi)\n",
        "print(lowerBound)"
      ],
      "metadata": {
        "colab": {
          "base_uri": "https://localhost:8080/"
        },
        "id": "kJ4I18CImnp2",
        "outputId": "98702eed-15de-4e0f-c9f7-3a4838a4312f"
      },
      "execution_count": null,
      "outputs": [
        {
          "output_type": "stream",
          "name": "stdout",
          "text": [
            "3\n"
          ]
        }
      ]
    },
    {
      "cell_type": "markdown",
      "source": [
        "We can also find the logarithm by using the math module with math.log()"
      ],
      "metadata": {
        "id": "Lz1F3WhtnL0H"
      }
    },
    {
      "cell_type": "code",
      "source": [
        "# returning the log2 of 64\n",
        "import math\n",
        "print (\"The value of log2 of 64 is : \", math.log2(64))"
      ],
      "metadata": {
        "colab": {
          "base_uri": "https://localhost:8080/"
        },
        "id": "hJexUa8ToY-I",
        "outputId": "b06a44d7-c1ad-4c13-a223-fdcf7ff52717"
      },
      "execution_count": null,
      "outputs": [
        {
          "output_type": "stream",
          "name": "stdout",
          "text": [
            "The value of log2 of 64 is :  6.0\n"
          ]
        }
      ]
    },
    {
      "cell_type": "code",
      "source": [
        "# returning the log of 2,3\n",
        "import math\n",
        "print (\"The value of log 2 with base 3 is : \", math.log(2,3))"
      ],
      "metadata": {
        "colab": {
          "base_uri": "https://localhost:8080/"
        },
        "id": "4gAcOoHRnLCG",
        "outputId": "d66d7975-1955-41d3-d1ae-3954d3bdfbb7"
      },
      "execution_count": null,
      "outputs": [
        {
          "output_type": "stream",
          "name": "stdout",
          "text": [
            "The value of log 2 with base 3 is :  0.6309297535714574\n"
          ]
        }
      ]
    },
    {
      "cell_type": "markdown",
      "source": [
        "Moreover, we can find the square root by using math module with math.sqrt()"
      ],
      "metadata": {
        "id": "hoUwmCNOpHBD"
      }
    },
    {
      "cell_type": "code",
      "source": [
        "import math\n",
        "#returning the square root of 256\n",
        "print(math.sqrt(256))"
      ],
      "metadata": {
        "colab": {
          "base_uri": "https://localhost:8080/"
        },
        "id": "WzzTuepZpGWB",
        "outputId": "c2233ddd-4971-4818-c976-ceaa3e90c47b"
      },
      "execution_count": null,
      "outputs": [
        {
          "output_type": "stream",
          "name": "stdout",
          "text": [
            "16.0\n"
          ]
        }
      ]
    },
    {
      "cell_type": "markdown",
      "source": [
        "There are many other mathematical operations that can be done with the math module. For more details, we can see with dir(math)"
      ],
      "metadata": {
        "id": "9cpX98C0qYEH"
      }
    },
    {
      "cell_type": "code",
      "source": [
        "dir(math)"
      ],
      "metadata": {
        "colab": {
          "base_uri": "https://localhost:8080/"
        },
        "id": "MidAKDiKp6pk",
        "outputId": "178a370c-9a8f-4841-a12e-63108513c0ea"
      },
      "execution_count": null,
      "outputs": [
        {
          "output_type": "execute_result",
          "data": {
            "text/plain": [
              "['__doc__',\n",
              " '__loader__',\n",
              " '__name__',\n",
              " '__package__',\n",
              " '__spec__',\n",
              " 'acos',\n",
              " 'acosh',\n",
              " 'asin',\n",
              " 'asinh',\n",
              " 'atan',\n",
              " 'atan2',\n",
              " 'atanh',\n",
              " 'ceil',\n",
              " 'copysign',\n",
              " 'cos',\n",
              " 'cosh',\n",
              " 'degrees',\n",
              " 'e',\n",
              " 'erf',\n",
              " 'erfc',\n",
              " 'exp',\n",
              " 'expm1',\n",
              " 'fabs',\n",
              " 'factorial',\n",
              " 'floor',\n",
              " 'fmod',\n",
              " 'frexp',\n",
              " 'fsum',\n",
              " 'gamma',\n",
              " 'gcd',\n",
              " 'hypot',\n",
              " 'inf',\n",
              " 'isclose',\n",
              " 'isfinite',\n",
              " 'isinf',\n",
              " 'isnan',\n",
              " 'ldexp',\n",
              " 'lgamma',\n",
              " 'log',\n",
              " 'log10',\n",
              " 'log1p',\n",
              " 'log2',\n",
              " 'modf',\n",
              " 'nan',\n",
              " 'pi',\n",
              " 'pow',\n",
              " 'radians',\n",
              " 'remainder',\n",
              " 'sin',\n",
              " 'sinh',\n",
              " 'sqrt',\n",
              " 'tan',\n",
              " 'tanh',\n",
              " 'tau',\n",
              " 'trunc']"
            ]
          },
          "metadata": {},
          "execution_count": 18
        }
      ]
    }
  ]
}