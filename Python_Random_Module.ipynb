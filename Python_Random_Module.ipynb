{
  "nbformat": 4,
  "nbformat_minor": 0,
  "metadata": {
    "colab": {
      "name": "Python Random Module.ipynb",
      "provenance": [],
      "collapsed_sections": []
    },
    "kernelspec": {
      "name": "python3",
      "display_name": "Python 3"
    },
    "language_info": {
      "name": "python"
    }
  },
  "cells": [
    {
      "cell_type": "markdown",
      "source": [
        "#Random Module"
      ],
      "metadata": {
        "id": "eGGsUubBDF6T"
      }
    },
    {
      "cell_type": "markdown",
      "source": [
        "Python Random module is an in-built module of Python which is used to generate random numbers"
      ],
      "metadata": {
        "id": "vcufcfY89Y6v"
      }
    },
    {
      "cell_type": "markdown",
      "source": [
        "This module can be used to perform random actions such as generating random numbers, print random a value for a list or string, etc."
      ],
      "metadata": {
        "id": "jHVYyOtmBC8o"
      }
    },
    {
      "cell_type": "markdown",
      "source": [
        "We can generate random integers between the given range by using randint(). \n"
      ],
      "metadata": {
        "id": "6hfEhhi9BXyn"
      }
    },
    {
      "cell_type": "code",
      "source": [
        "from random import randint\n",
        "randNum = randint(10, 100)\n",
        "print(\"Random number between 10 and 100 is % s\" %(randNum))"
      ],
      "metadata": {
        "colab": {
          "base_uri": "https://localhost:8080/"
        },
        "id": "SCksvUMg-xvW",
        "outputId": "1255d43d-75c1-4954-f15e-f3298f9eda8d"
      },
      "execution_count": null,
      "outputs": [
        {
          "output_type": "stream",
          "name": "stdout",
          "text": [
            "Random number between 10 and 100 is 68\n"
          ]
        }
      ]
    },
    {
      "cell_type": "code",
      "execution_count": null,
      "metadata": {
        "colab": {
          "base_uri": "https://localhost:8080/"
        },
        "id": "TXFn3ihb9X6o",
        "outputId": "f5a7ba70-8ae5-4671-8082-013a2b0d2021"
      },
      "outputs": [
        {
          "output_type": "stream",
          "name": "stdout",
          "text": [
            "Random num 0 is 189\n",
            "Random num 1 is 84\n",
            "Random num 2 is 74\n",
            "Random num 3 is 6\n",
            "Random num 4 is 47\n",
            "Random num 5 is 109\n",
            "Random num 6 is 140\n",
            "Random num 7 is 183\n"
          ]
        }
      ],
      "source": [
        "#returning the looping of random number between 1 and 199\n",
        "from random import randint\n",
        "for i in range(8):\n",
        "  print(f\"Random num {i} is {randint(1,199)}\")"
      ]
    },
    {
      "cell_type": "markdown",
      "source": [
        "There are many other functions that can be used in the random module, such as generating random float numbers, selecting random elements, suffling list, etc. For more details, you can explore further about random module"
      ],
      "metadata": {
        "id": "hb6fq_pUD_5r"
      }
    }
  ]
}