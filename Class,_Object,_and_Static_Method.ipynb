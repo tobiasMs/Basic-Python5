{
  "nbformat": 4,
  "nbformat_minor": 0,
  "metadata": {
    "colab": {
      "name": "Class, Object, and Static Method.ipynb",
      "provenance": []
    },
    "kernelspec": {
      "name": "python3",
      "display_name": "Python 3"
    },
    "language_info": {
      "name": "python"
    }
  },
  "cells": [
    {
      "cell_type": "code",
      "execution_count": 6,
      "metadata": {
        "id": "Jcou_0_ZC1kX"
      },
      "outputs": [],
      "source": [
        "class Calculator:\n",
        "\n",
        "  def __init__(self, value1,value2):\n",
        "    self.value1 = value1\n",
        "    self.value2 = value2\n",
        "\n",
        "  def plus(self):\n",
        "    self.plus = self.value1 + self.value2\n",
        "    return self.plus\n",
        "  \n",
        "  def minus(self):\n",
        "    self.min = self.value1 - self.value2\n",
        "    return self.min"
      ]
    },
    {
      "cell_type": "code",
      "source": [
        "k = Calculator(\"value1\", \"value2\")"
      ],
      "metadata": {
        "id": "lE8JG3b8b39A"
      },
      "execution_count": 7,
      "outputs": []
    },
    {
      "cell_type": "code",
      "source": [
        "k = Calculator(7,4)"
      ],
      "metadata": {
        "id": "QMRnfv9Yb9mM"
      },
      "execution_count": 8,
      "outputs": []
    },
    {
      "cell_type": "code",
      "source": [
        "k.plus()"
      ],
      "metadata": {
        "colab": {
          "base_uri": "https://localhost:8080/"
        },
        "id": "ocwYsPYccBk8",
        "outputId": "cbd3372b-351b-4fad-fe69-1558204a683f"
      },
      "execution_count": 9,
      "outputs": [
        {
          "output_type": "execute_result",
          "data": {
            "text/plain": [
              "11"
            ]
          },
          "metadata": {},
          "execution_count": 9
        }
      ]
    },
    {
      "cell_type": "code",
      "source": [
        "k.minus()"
      ],
      "metadata": {
        "colab": {
          "base_uri": "https://localhost:8080/"
        },
        "id": "M3xypIb6cSC8",
        "outputId": "64d35a14-1ed2-4220-df8f-ece0f8bcc70d"
      },
      "execution_count": 11,
      "outputs": [
        {
          "output_type": "execute_result",
          "data": {
            "text/plain": [
              "3"
            ]
          },
          "metadata": {},
          "execution_count": 11
        }
      ]
    },
    {
      "cell_type": "code",
      "source": [
        ""
      ],
      "metadata": {
        "id": "9geat1_4coHe"
      },
      "execution_count": null,
      "outputs": []
    },
    {
      "cell_type": "code",
      "source": [
        "class Calculator:\n",
        "\n",
        "  def __init__(self, value1,value2):\n",
        "    self.value1 = value1\n",
        "    self.value2 = value2\n",
        "  \n",
        "  @classmethod\n",
        "  def plus_value(cls,value1,value2):\n",
        "    cls.plus_val = value1 + value2\n",
        "    return cls.plus_val\n",
        "  \n",
        "  @classmethod\n",
        "  def minus_value(cls,value1,value2):\n",
        "    cls.min_val = value1 - value2\n",
        "    return cls.min_val"
      ],
      "metadata": {
        "id": "g5upL-KPdFJk"
      },
      "execution_count": 15,
      "outputs": []
    },
    {
      "cell_type": "code",
      "source": [
        "x = Calculator(\"value1\", \"value2\")"
      ],
      "metadata": {
        "id": "1GGePkdcdj98"
      },
      "execution_count": 16,
      "outputs": []
    },
    {
      "cell_type": "code",
      "source": [
        "x.plus_value(7,4)"
      ],
      "metadata": {
        "colab": {
          "base_uri": "https://localhost:8080/"
        },
        "id": "KPMmwleddtMw",
        "outputId": "dabdceae-d2e3-4f0f-a766-2a65c55cdae8"
      },
      "execution_count": 17,
      "outputs": [
        {
          "output_type": "execute_result",
          "data": {
            "text/plain": [
              "11"
            ]
          },
          "metadata": {},
          "execution_count": 17
        }
      ]
    },
    {
      "cell_type": "code",
      "source": [
        "x.minus_value(7,4)"
      ],
      "metadata": {
        "colab": {
          "base_uri": "https://localhost:8080/"
        },
        "id": "3Wb18RT4d838",
        "outputId": "1cf31632-ddc5-4b12-9a54-150af7b641bf"
      },
      "execution_count": 18,
      "outputs": [
        {
          "output_type": "execute_result",
          "data": {
            "text/plain": [
              "3"
            ]
          },
          "metadata": {},
          "execution_count": 18
        }
      ]
    },
    {
      "cell_type": "code",
      "source": [
        ""
      ],
      "metadata": {
        "id": "ggoe3YC_eDzc"
      },
      "execution_count": null,
      "outputs": []
    },
    {
      "cell_type": "code",
      "source": [
        "class Calculator:\n",
        "\n",
        "  def __init__(self, value1,value2):\n",
        "    self.value1 = value1\n",
        "    self.value2 = value2\n",
        "\n",
        "  @staticmethod\n",
        "  def plus(value1,value2):\n",
        "    plus_ = value1 + value2\n",
        "    return plus_\n",
        "  \n",
        "  @staticmethod\n",
        "  def minus(value1,value2):\n",
        "    min = value1 - value2\n",
        "    return min"
      ],
      "metadata": {
        "id": "paJQI2yXeD8f"
      },
      "execution_count": 21,
      "outputs": []
    },
    {
      "cell_type": "code",
      "source": [
        "y = Calculator.plus(7,4)\n",
        "print(y)"
      ],
      "metadata": {
        "colab": {
          "base_uri": "https://localhost:8080/"
        },
        "id": "gjoIVmRsef_D",
        "outputId": "29d58bc0-222d-4404-ef90-2a01317bc5b5"
      },
      "execution_count": 22,
      "outputs": [
        {
          "output_type": "stream",
          "name": "stdout",
          "text": [
            "11\n"
          ]
        }
      ]
    },
    {
      "cell_type": "code",
      "source": [
        "y = Calculator.minus(7,4)\n",
        "print(y)"
      ],
      "metadata": {
        "colab": {
          "base_uri": "https://localhost:8080/"
        },
        "id": "IBsUfV6ievt8",
        "outputId": "425323f2-1449-4e08-8363-ddc33492c334"
      },
      "execution_count": 23,
      "outputs": [
        {
          "output_type": "stream",
          "name": "stdout",
          "text": [
            "3\n"
          ]
        }
      ]
    }
  ]
}