{
  "nbformat": 4,
  "nbformat_minor": 0,
  "metadata": {
    "colab": {
      "name": "txt file - delete.ipynb",
      "provenance": [],
      "collapsed_sections": []
    },
    "kernelspec": {
      "name": "python3",
      "display_name": "Python 3"
    },
    "language_info": {
      "name": "python"
    }
  },
  "cells": [
    {
      "cell_type": "markdown",
      "source": [
        "# **delete**\n",
        "os module in Python provides functions for interacting with the operating system.\\\n",
        "os.remove() method in Python is used to remove or delete a file.\\\n",
        "To delete a file, you must import the OS module, and run its os.remove() function."
      ],
      "metadata": {
        "id": "B-_u08dd94YW"
      }
    },
    {
      "cell_type": "code",
      "source": [
        "# importing os module \n",
        "import os"
      ],
      "metadata": {
        "id": "w8Edu7Jj8iuP"
      },
      "execution_count": null,
      "outputs": []
    },
    {
      "cell_type": "code",
      "execution_count": null,
      "metadata": {
        "colab": {
          "base_uri": "https://localhost:8080/"
        },
        "id": "sBkWiDig8A9m",
        "outputId": "c4acc39a-a50b-48a1-e6c4-af3ff407b900"
      },
      "outputs": [
        {
          "output_type": "stream",
          "name": "stdout",
          "text": [
            "There was no My Profile file to remove\n"
          ]
        }
      ],
      "source": [
        "if os.path.isfile('My Profile.txt'):\n",
        "# Remove the My Profile.txt file \n",
        "  os.remove('My Profile.txt')\n",
        "  print('The My Profile file has been removed')\n",
        "else:\n",
        "  print('There was no My Profile file to remove')"
      ]
    },
    {
      "cell_type": "markdown",
      "source": [
        "##Thanks you!\n",
        "**Have a great day..**\\\n",
        "*See you again* ☺️"
      ],
      "metadata": {
        "id": "WK2eWV-MPj15"
      }
    }
  ]
}