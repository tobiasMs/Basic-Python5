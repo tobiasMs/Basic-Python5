{
  "nbformat": 4,
  "nbformat_minor": 0,
  "metadata": {
    "colab": {
      "name": "pydoc.ipynb",
      "provenance": [],
      "collapsed_sections": []
    },
    "kernelspec": {
      "name": "python3",
      "display_name": "Python 3"
    },
    "language_info": {
      "name": "python"
    }
  },
  "cells": [
    {
      "cell_type": "markdown",
      "source": [
        "# **pydoc**\n",
        "The pydoc module automatically generates documentation from Python modules.\\\n",
        "The pydoc module comes packaged along with Python, which means you don’t have to download and install it separately.\\\n",
        "In this code you will be learning methods to view these documentations for your python scripts."
      ],
      "metadata": {
        "id": "hj0ujQmoAPKb"
      }
    },
    {
      "cell_type": "code",
      "source": [
        "#command prompt (Anaconda Prompt)\n",
        "#c:\\users\\admin>python -m pydoc pass\n",
        "#c:\\users\\admin>python /?"
      ],
      "metadata": {
        "id": "JBxjqam0AOPM"
      },
      "execution_count": null,
      "outputs": []
    },
    {
      "cell_type": "code",
      "execution_count": null,
      "metadata": {
        "id": "RDiJAYgx7rP7"
      },
      "outputs": [],
      "source": [
        "#command line (Python)\n",
        "#import pydoc\n",
        "#pydoc.help()\n",
        "#enter the name of the module, datatype, function, classes, etc.\n",
        "#help>modules"
      ]
    },
    {
      "cell_type": "markdown",
      "source": [
        "##Thanks you!\n",
        "**Have a great day..**\\\n",
        "*See you again* ☺️"
      ],
      "metadata": {
        "id": "m_7NDHdPKSxP"
      }
    }
  ]
}